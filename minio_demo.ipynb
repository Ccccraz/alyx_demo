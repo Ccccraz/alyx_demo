{
 "cells": [
  {
   "cell_type": "code",
   "execution_count": null,
   "metadata": {},
   "outputs": [],
   "source": [
    "import boto3\n",
    "from botocore.client import Config\n",
    "from mypy_boto3_s3.service_resource import S3ServiceResource"
   ]
  },
  {
   "cell_type": "code",
   "execution_count": null,
   "metadata": {},
   "outputs": [],
   "source": [
    "# ION Server\n",
    "# MINIO_ENDPOINT = 'http://172.16.102.77:9000'\n",
    "# AWS_ACCESS_KEY_ID = 'u4Y2nL6jSn0OSYEK23We'\n",
    "# AWS_SECRET_ACCESS_KEY = 'NEBhmNTZNkDu5ubRwUHxEDs9hhBuuypzi5D7pLbU'"
   ]
  },
  {
   "cell_type": "code",
   "execution_count": 2,
   "metadata": {},
   "outputs": [],
   "source": [
    "# Local MinIO Server\n",
    "MINIO_ENDPOINT = \"http://192.168.31.96:9090\"\n",
    "AWS_ACCESS_KEY_ID = \"VXhOKbwvlopyUYpPEESD\"\n",
    "AWS_SECRET_ACCESS_KEY = \"P6DJrbhr3WOBWvlATFwGlm9G0kx0IfESDN4sT2XD\""
   ]
  },
  {
   "cell_type": "code",
   "execution_count": null,
   "metadata": {},
   "outputs": [],
   "source": [
    "s3: S3ServiceResource = boto3.resource(\n",
    "    \"s3\",\n",
    "    endpoint_url=MINIO_ENDPOINT,\n",
    "    aws_access_key_id=AWS_ACCESS_KEY_ID,\n",
    "    aws_secret_access_key=AWS_SECRET_ACCESS_KEY,\n",
    "    config=Config(signature_version=\"s3v4\"),  # MinIO 需要此配置\n",
    ")"
   ]
  },
  {
   "cell_type": "code",
   "execution_count": null,
   "metadata": {},
   "outputs": [],
   "source": [
    "\n",
    "for bucket in s3.buckets.all():\n",
    "    print(bucket.name)"
   ]
  }
 ],
 "metadata": {
  "kernelspec": {
   "display_name": ".venv",
   "language": "python",
   "name": "python3"
  },
  "language_info": {
   "codemirror_mode": {
    "name": "ipython",
    "version": 3
   },
   "file_extension": ".py",
   "mimetype": "text/x-python",
   "name": "python",
   "nbconvert_exporter": "python",
   "pygments_lexer": "ipython3",
   "version": "3.9.21"
  }
 },
 "nbformat": 4,
 "nbformat_minor": 2
}
