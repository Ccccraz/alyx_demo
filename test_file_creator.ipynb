{
 "cells": [
  {
   "cell_type": "code",
   "execution_count": null,
   "metadata": {},
   "outputs": [],
   "source": [
    "import datetime\n",
    "from pathlib import Path\n",
    "from pprint import pprint"
   ]
  },
  {
   "cell_type": "code",
   "execution_count": 20,
   "metadata": {},
   "outputs": [],
   "source": [
    "BASE_PATH = Path(\"test_file\")\n",
    "LAB_NAME = \"IanLab\"\n",
    "SUBJECT = \"Subject\"\n",
    "SUBJECT_NAME = \"test001\"\n",
    "TIMES = 1\n",
    "ALYX = \"alf\"\n",
    "FILENAME = \"spikes.times.npy\""
   ]
  },
  {
   "cell_type": "code",
   "execution_count": 21,
   "metadata": {},
   "outputs": [
    {
     "name": "stdout",
     "output_type": "stream",
     "text": [
      "['2025-01-01',\n",
      " '2025-01-02',\n",
      " '2025-01-03',\n",
      " '2025-01-04',\n",
      " '2025-01-05',\n",
      " '2025-01-06',\n",
      " '2025-01-07',\n",
      " '2025-01-08',\n",
      " '2025-01-09',\n",
      " '2025-01-10']\n"
     ]
    }
   ],
   "source": [
    "start_date = datetime.date(2025, 1, 1)\n",
    "dates = []\n",
    "for i in range(10):\n",
    "    current_date = start_date + datetime.timedelta(days=i)\n",
    "    formatted_date = current_date.strftime(\"%Y-%m-%d\")\n",
    "    dates.append(formatted_date)\n",
    "\n",
    "pprint(dates)"
   ]
  },
  {
   "cell_type": "code",
   "execution_count": 22,
   "metadata": {},
   "outputs": [
    {
     "name": "stdout",
     "output_type": "stream",
     "text": [
      "[WindowsPath('test_file/IanLab/Subject/test001/2025-01-01/001/alf'),\n",
      " WindowsPath('test_file/IanLab/Subject/test001/2025-01-02/001/alf'),\n",
      " WindowsPath('test_file/IanLab/Subject/test001/2025-01-03/001/alf'),\n",
      " WindowsPath('test_file/IanLab/Subject/test001/2025-01-04/001/alf'),\n",
      " WindowsPath('test_file/IanLab/Subject/test001/2025-01-05/001/alf'),\n",
      " WindowsPath('test_file/IanLab/Subject/test001/2025-01-06/001/alf'),\n",
      " WindowsPath('test_file/IanLab/Subject/test001/2025-01-07/001/alf'),\n",
      " WindowsPath('test_file/IanLab/Subject/test001/2025-01-08/001/alf'),\n",
      " WindowsPath('test_file/IanLab/Subject/test001/2025-01-09/001/alf'),\n",
      " WindowsPath('test_file/IanLab/Subject/test001/2025-01-10/001/alf')]\n"
     ]
    }
   ],
   "source": [
    "paths = []\n",
    "for date in dates:\n",
    "    path = BASE_PATH / LAB_NAME / SUBJECT / SUBJECT_NAME / str(date) / f\"{TIMES:03d}\" / ALYX\n",
    "    path.mkdir(parents=True, exist_ok=True)\n",
    "    paths.append(path)\n",
    "\n",
    "pprint(paths)"
   ]
  },
  {
   "cell_type": "code",
   "execution_count": 24,
   "metadata": {},
   "outputs": [
    {
     "name": "stdout",
     "output_type": "stream",
     "text": [
      "File saved to test_file\\IanLab\\Subject\\test001\\2025-01-01\\001\\alf\\spikes.times.npy\n",
      "File saved to test_file\\IanLab\\Subject\\test001\\2025-01-02\\001\\alf\\spikes.times.npy\n",
      "File saved to test_file\\IanLab\\Subject\\test001\\2025-01-03\\001\\alf\\spikes.times.npy\n",
      "File saved to test_file\\IanLab\\Subject\\test001\\2025-01-04\\001\\alf\\spikes.times.npy\n",
      "File saved to test_file\\IanLab\\Subject\\test001\\2025-01-05\\001\\alf\\spikes.times.npy\n",
      "File saved to test_file\\IanLab\\Subject\\test001\\2025-01-06\\001\\alf\\spikes.times.npy\n",
      "File saved to test_file\\IanLab\\Subject\\test001\\2025-01-07\\001\\alf\\spikes.times.npy\n",
      "File saved to test_file\\IanLab\\Subject\\test001\\2025-01-08\\001\\alf\\spikes.times.npy\n",
      "File saved to test_file\\IanLab\\Subject\\test001\\2025-01-09\\001\\alf\\spikes.times.npy\n",
      "File saved to test_file\\IanLab\\Subject\\test001\\2025-01-10\\001\\alf\\spikes.times.npy\n"
     ]
    }
   ],
   "source": [
    "import numpy as np\n",
    "\n",
    "# %%timeit\n",
    "for path in paths:\n",
    "    data = np.random.randn(100, 100)  # 100行5列的矩阵\n",
    "    file_path = path / FILENAME\n",
    "    np.save(file_path, data)\n",
    "    print(f\"File saved to {file_path}\")"
   ]
  }
 ],
 "metadata": {
  "kernelspec": {
   "display_name": ".venv",
   "language": "python",
   "name": "python3"
  },
  "language_info": {
   "codemirror_mode": {
    "name": "ipython",
    "version": 3
   },
   "file_extension": ".py",
   "mimetype": "text/x-python",
   "name": "python",
   "nbconvert_exporter": "python",
   "pygments_lexer": "ipython3",
   "version": "3.9.21"
  }
 },
 "nbformat": 4,
 "nbformat_minor": 2
}
