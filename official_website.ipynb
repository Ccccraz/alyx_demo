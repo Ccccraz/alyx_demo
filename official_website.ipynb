{
 "cells": [
  {
   "cell_type": "code",
   "execution_count": null,
   "metadata": {},
   "outputs": [
    {
     "name": "stdout",
     "output_type": "stream",
     "text": [
      "ONE Parameter files location: C:\\Users\\ccccr\\AppData\\Roaming\\.one\n"
     ]
    },
    {
     "data": {
      "text/plain": [
       "IBLParams(CLIENT_MAP={'openalyx.internationalbrainlab.org': 'C:\\\\Users\\\\ccccr\\\\Downloads\\\\ONE\\\\openalyx.internationalbrainlab.org'}, DEFAULT='openalyx.internationalbrainlab.org')"
      ]
     },
     "execution_count": 1,
     "metadata": {},
     "output_type": "execute_result"
    }
   ],
   "source": [
    "from one.api import ONE\n",
    "ONE.setup()\n"
   ]
  },
  {
   "cell_type": "code",
   "execution_count": 2,
   "metadata": {},
   "outputs": [
    {
     "name": "stdout",
     "output_type": "stream",
     "text": [
      "Connected to https://openalyx.internationalbrainlab.org as user \"intbrainlab\"\n",
      "Downloading: C:\\Users\\ccccr\\Downloads\\ONE\\openalyx.internationalbrainlab.org\\tmp7yk0o7j3\\cache.zip Bytes: 7414856\n"
     ]
    },
    {
     "name": "stderr",
     "output_type": "stream",
     "text": [
      "100%|██████████| 7.071357727050781/7.071357727050781 [00:01<00:00,  3.59it/s]\n"
     ]
    }
   ],
   "source": [
    "one = ONE(password = 'international')"
   ]
  },
  {
   "cell_type": "code",
   "execution_count": 3,
   "metadata": {},
   "outputs": [
    {
     "name": "stdout",
     "output_type": "stream",
     "text": [
      "('dataset', 'date_range', 'laboratory', 'number', 'projects', 'subject', 'task_protocol', 'dataset_qc_lte')\n"
     ]
    }
   ],
   "source": [
    "print(one.search_terms())"
   ]
  }
 ],
 "metadata": {
  "kernelspec": {
   "display_name": ".venv",
   "language": "python",
   "name": "python3"
  },
  "language_info": {
   "codemirror_mode": {
    "name": "ipython",
    "version": 3
   },
   "file_extension": ".py",
   "mimetype": "text/x-python",
   "name": "python",
   "nbconvert_exporter": "python",
   "pygments_lexer": "ipython3",
   "version": "3.9.21"
  }
 },
 "nbformat": 4,
 "nbformat_minor": 2
}
