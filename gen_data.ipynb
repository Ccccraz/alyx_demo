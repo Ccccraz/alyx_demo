{
 "cells": [
  {
   "cell_type": "code",
   "execution_count": null,
   "metadata": {},
   "outputs": [],
   "source": [
    "import pandas as pd\n",
    "import numpy as np\n",
    "\n",
    "from pathlib import Path\n",
    "from datetime import datetime\n",
    "from one.api import ONE"
   ]
  },
  {
   "cell_type": "code",
   "execution_count": null,
   "metadata": {},
   "outputs": [],
   "source": [
    "one = ONE()"
   ]
  },
  {
   "cell_type": "code",
   "execution_count": null,
   "metadata": {},
   "outputs": [],
   "source": [
    "ROOT_EXPERIMENTAL_FOLDER = Path.cwd().joinpath('data')"
   ]
  },
  {
   "cell_type": "code",
   "execution_count": null,
   "metadata": {},
   "outputs": [],
   "source": [
    "session_dict = dict(subject='xxx', number=1, lab='YangLab', task_protocol='pacman_stage_001',\n",
    "                    project=\"pacman\", start_time=str(datetime.now()), users=['admin'])\n",
    "session = one.alyx.rest('sessions', 'create', data=session_dict)\n",
    "eid = session['id']"
   ]
  },
  {
   "cell_type": "code",
   "execution_count": null,
   "metadata": {},
   "outputs": [],
   "source": [
    "session_path = ROOT_EXPERIMENTAL_FOLDER.joinpath(\n",
    "    session['lab'], 'Subjects', session['subject'], session['start_time'][:10], str(session['number']).zfill(3))\n",
    "alf_path = session_path.joinpath('alf') \n",
    "alf_path.mkdir(parents=True, exist_ok=True)"
   ]
  },
  {
   "cell_type": "code",
   "execution_count": 3,
   "metadata": {},
   "outputs": [
    {
     "data": {
      "text/html": [
       "<div>\n",
       "<style scoped>\n",
       "    .dataframe tbody tr th:only-of-type {\n",
       "        vertical-align: middle;\n",
       "    }\n",
       "\n",
       "    .dataframe tbody tr th {\n",
       "        vertical-align: top;\n",
       "    }\n",
       "\n",
       "    .dataframe thead th {\n",
       "        text-align: right;\n",
       "    }\n",
       "</style>\n",
       "<table border=\"1\" class=\"dataframe\">\n",
       "  <thead>\n",
       "    <tr style=\"text-align: right;\">\n",
       "      <th></th>\n",
       "      <th>x</th>\n",
       "      <th>y</th>\n",
       "    </tr>\n",
       "  </thead>\n",
       "  <tbody>\n",
       "    <tr>\n",
       "      <th>0</th>\n",
       "      <td>0.000000</td>\n",
       "      <td>0.000000</td>\n",
       "    </tr>\n",
       "    <tr>\n",
       "      <th>1</th>\n",
       "      <td>0.063148</td>\n",
       "      <td>0.063106</td>\n",
       "    </tr>\n",
       "    <tr>\n",
       "      <th>2</th>\n",
       "      <td>0.126295</td>\n",
       "      <td>0.125960</td>\n",
       "    </tr>\n",
       "    <tr>\n",
       "      <th>3</th>\n",
       "      <td>0.189443</td>\n",
       "      <td>0.188312</td>\n",
       "    </tr>\n",
       "    <tr>\n",
       "      <th>4</th>\n",
       "      <td>0.252590</td>\n",
       "      <td>0.249913</td>\n",
       "    </tr>\n",
       "  </tbody>\n",
       "</table>\n",
       "</div>"
      ],
      "text/plain": [
       "          x         y\n",
       "0  0.000000  0.000000\n",
       "1  0.063148  0.063106\n",
       "2  0.126295  0.125960\n",
       "3  0.189443  0.188312\n",
       "4  0.252590  0.249913"
      ]
     },
     "execution_count": 3,
     "metadata": {},
     "output_type": "execute_result"
    }
   ],
   "source": [
    "ntrials = 400\n",
    "x_mock_001 = np.linspace(0, 4 * np.pi, ntrials)\n",
    "y_mock_001 = np.sin(x_mock_001)\n",
    "\n",
    "mock_001 = pd.DataFrame({\n",
    "    'x': x_mock_001,\n",
    "    'y': y_mock_001\n",
    "})\n",
    "\n",
    "mock_001.head()"
   ]
  },
  {
   "cell_type": "code",
   "execution_count": null,
   "metadata": {},
   "outputs": [],
   "source": [
    "file_path = alf_path.joinpath('mock.table.pqt')\n",
    "mock_001.to_parquet(file_path)"
   ]
  },
  {
   "cell_type": "code",
   "execution_count": null,
   "metadata": {},
   "outputs": [],
   "source": [
    "from data_transform import SmbClient\n",
    "smbclient = SmbClient(r\"address\", \"admin\", \"admin\")\n",
    "smbclient.upload(file_path, file_path)"
   ]
  },
  {
   "cell_type": "code",
   "execution_count": null,
   "metadata": {},
   "outputs": [],
   "source": [
    "r = {'created_by': 'admin',\n",
    "     'path': session_path.relative_to((session_path.parents[2])).as_posix(),\n",
    "     'filenames': ['alf/trials.table.pqt'],\n",
    "     'name': 'local'\n",
    "     }\n",
    "response = one.alyx.rest('register-file', 'create', data=r, no_cache=True)"
   ]
  }
 ],
 "metadata": {
  "kernelspec": {
   "display_name": ".venv",
   "language": "python",
   "name": "python3"
  },
  "language_info": {
   "codemirror_mode": {
    "name": "ipython",
    "version": 3
   },
   "file_extension": ".py",
   "mimetype": "text/x-python",
   "name": "python",
   "nbconvert_exporter": "python",
   "pygments_lexer": "ipython3",
   "version": "3.9.20"
  }
 },
 "nbformat": 4,
 "nbformat_minor": 2
}
